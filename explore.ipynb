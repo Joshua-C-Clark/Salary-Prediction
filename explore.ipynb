{
 "metadata": {
  "language_info": {
   "codemirror_mode": {
    "name": "ipython",
    "version": 3
   },
   "file_extension": ".py",
   "mimetype": "text/x-python",
   "name": "python",
   "nbconvert_exporter": "python",
   "pygments_lexer": "ipython3",
   "version": "3.8.5-final"
  },
  "orig_nbformat": 2,
  "kernelspec": {
   "name": "python3",
   "display_name": "Python 3",
   "language": "python"
  }
 },
 "nbformat": 4,
 "nbformat_minor": 2,
 "cells": [
  {
   "cell_type": "code",
   "execution_count": 2,
   "metadata": {},
   "outputs": [],
   "source": [
    "import pandas as pd\n",
    "import settings\n",
    "import os"
   ]
  },
  {
   "cell_type": "code",
   "execution_count": 10,
   "metadata": {},
   "outputs": [],
   "source": [
    "data = pd.DataFrame(columns=['Company', 'Location', 'Job_Title', 'Subspecialty','Role'])"
   ]
  },
  {
   "cell_type": "code",
   "execution_count": 11,
   "metadata": {},
   "outputs": [
    {
     "output_type": "execute_result",
     "data": {
      "text/plain": [
       "  Company       Location Job_Title Subspecialty            Role\n",
       "0  Google  San Francisco        L4           ML  Data Scientist"
      ],
      "text/html": "<div>\n<style scoped>\n    .dataframe tbody tr th:only-of-type {\n        vertical-align: middle;\n    }\n\n    .dataframe tbody tr th {\n        vertical-align: top;\n    }\n\n    .dataframe thead th {\n        text-align: right;\n    }\n</style>\n<table border=\"1\" class=\"dataframe\">\n  <thead>\n    <tr style=\"text-align: right;\">\n      <th></th>\n      <th>Company</th>\n      <th>Location</th>\n      <th>Job_Title</th>\n      <th>Subspecialty</th>\n      <th>Role</th>\n    </tr>\n  </thead>\n  <tbody>\n    <tr>\n      <th>0</th>\n      <td>Google</td>\n      <td>San Francisco</td>\n      <td>L4</td>\n      <td>ML</td>\n      <td>Data Scientist</td>\n    </tr>\n  </tbody>\n</table>\n</div>"
     },
     "metadata": {},
     "execution_count": 11
    }
   ],
   "source": [
    "data.loc[0] = ['Google','San Francisco', 'L4', 'ML','Data Scientist']\n",
    "data"
   ]
  },
  {
   "cell_type": "code",
   "execution_count": 8,
   "metadata": {},
   "outputs": [
    {
     "output_type": "execute_result",
     "data": {
      "text/plain": [
       "    Company       Location Job_Title Subspecialty            Role\n",
       "0    Google  San Francisco        L4           ML      Consultant\n",
       "1  Facebook        Seattle        L5      Product  Data Scientist"
      ],
      "text/html": "<div>\n<style scoped>\n    .dataframe tbody tr th:only-of-type {\n        vertical-align: middle;\n    }\n\n    .dataframe tbody tr th {\n        vertical-align: top;\n    }\n\n    .dataframe thead th {\n        text-align: right;\n    }\n</style>\n<table border=\"1\" class=\"dataframe\">\n  <thead>\n    <tr style=\"text-align: right;\">\n      <th></th>\n      <th>Company</th>\n      <th>Location</th>\n      <th>Job_Title</th>\n      <th>Subspecialty</th>\n      <th>Role</th>\n    </tr>\n  </thead>\n  <tbody>\n    <tr>\n      <th>0</th>\n      <td>Google</td>\n      <td>San Francisco</td>\n      <td>L4</td>\n      <td>ML</td>\n      <td>Consultant</td>\n    </tr>\n    <tr>\n      <th>1</th>\n      <td>Facebook</td>\n      <td>Seattle</td>\n      <td>L5</td>\n      <td>Product</td>\n      <td>Data Scientist</td>\n    </tr>\n  </tbody>\n</table>\n</div>"
     },
     "metadata": {},
     "execution_count": 8
    }
   ],
   "source": [
    "data = {'Company':['Google', 'Facebook'], 'Location':['San Francisco', 'Seattle'],'Job_Title':['L4','L5'],'Subspecialty':['ML', 'Product'],'Role':['Consultant','Data Scientist']}\n",
    "data = pd.DataFrame(data=data)\n",
    "data"
   ]
  },
  {
   "cell_type": "code",
   "execution_count": 2,
   "metadata": {},
   "outputs": [
    {
     "output_type": "execute_result",
     "data": {
      "text/plain": [
       "          Company            Location      Date         Job_Title  \\\n",
       "0        McKinsey  San Francisco, CA   10/17/20  Senior Associate   \n",
       "1        Facebook     Menlo Park, CA   10/16/20                L4   \n",
       "2       Accenture  San Francisco, CA   10/15/20        Consultant   \n",
       "3      Salesforce        Atlanta, GA   10/15/20                 8   \n",
       "4          Oracle  San Francisco, CA   10/14/20              IC-4   \n",
       "...           ...                 ...       ...               ...   \n",
       "30289    Facebook       Menlo Park, C  | 3/3/20                M1   \n",
       "30290      PayPal         San Jose, C  | 3/3/20               T27   \n",
       "30291      Amazon         Seattle, WA   5/14/19                L5   \n",
       "30292      Amazon       Sunnyvale, CA   9/13/18                L6   \n",
       "30293      Google   Mountain View, CA   8/22/18                L5   \n",
       "\n",
       "      Subspecialty  Years_Experience Total_Comp                       Role  \n",
       "0         Analytic               7.0   $198,000                 Consultant  \n",
       "1          Product               5.0   $177,000                 Consultant  \n",
       "2         Analytic               3.0   $120,000                 Consultant  \n",
       "3       Operations               7.0   $178,000                 Consultant  \n",
       "4         Consumer              10.0    $82,000                 Consultant  \n",
       "...            ...               ...        ...                        ...  \n",
       "30289   Developers               NaN   $660,000  Technical Program Manager  \n",
       "30290      Program               NaN   $335,000  Technical Program Manager  \n",
       "30291     Security               NaN   $180,000  Technical Program Manager  \n",
       "30292   Full Stack               NaN   $254,000  Technical Program Manager  \n",
       "30293   Healthcare               NaN   $269,000  Technical Program Manager  \n",
       "\n",
       "[30294 rows x 8 columns]"
      ],
      "text/html": "<div>\n<style scoped>\n    .dataframe tbody tr th:only-of-type {\n        vertical-align: middle;\n    }\n\n    .dataframe tbody tr th {\n        vertical-align: top;\n    }\n\n    .dataframe thead th {\n        text-align: right;\n    }\n</style>\n<table border=\"1\" class=\"dataframe\">\n  <thead>\n    <tr style=\"text-align: right;\">\n      <th></th>\n      <th>Company</th>\n      <th>Location</th>\n      <th>Date</th>\n      <th>Job_Title</th>\n      <th>Subspecialty</th>\n      <th>Years_Experience</th>\n      <th>Total_Comp</th>\n      <th>Role</th>\n    </tr>\n  </thead>\n  <tbody>\n    <tr>\n      <th>0</th>\n      <td>McKinsey</td>\n      <td>San Francisco, CA</td>\n      <td>10/17/20</td>\n      <td>Senior Associate</td>\n      <td>Analytic</td>\n      <td>7.0</td>\n      <td>$198,000</td>\n      <td>Consultant</td>\n    </tr>\n    <tr>\n      <th>1</th>\n      <td>Facebook</td>\n      <td>Menlo Park, CA</td>\n      <td>10/16/20</td>\n      <td>L4</td>\n      <td>Product</td>\n      <td>5.0</td>\n      <td>$177,000</td>\n      <td>Consultant</td>\n    </tr>\n    <tr>\n      <th>2</th>\n      <td>Accenture</td>\n      <td>San Francisco, CA</td>\n      <td>10/15/20</td>\n      <td>Consultant</td>\n      <td>Analytic</td>\n      <td>3.0</td>\n      <td>$120,000</td>\n      <td>Consultant</td>\n    </tr>\n    <tr>\n      <th>3</th>\n      <td>Salesforce</td>\n      <td>Atlanta, GA</td>\n      <td>10/15/20</td>\n      <td>8</td>\n      <td>Operations</td>\n      <td>7.0</td>\n      <td>$178,000</td>\n      <td>Consultant</td>\n    </tr>\n    <tr>\n      <th>4</th>\n      <td>Oracle</td>\n      <td>San Francisco, CA</td>\n      <td>10/14/20</td>\n      <td>IC-4</td>\n      <td>Consumer</td>\n      <td>10.0</td>\n      <td>$82,000</td>\n      <td>Consultant</td>\n    </tr>\n    <tr>\n      <th>...</th>\n      <td>...</td>\n      <td>...</td>\n      <td>...</td>\n      <td>...</td>\n      <td>...</td>\n      <td>...</td>\n      <td>...</td>\n      <td>...</td>\n    </tr>\n    <tr>\n      <th>30289</th>\n      <td>Facebook</td>\n      <td>Menlo Park, C</td>\n      <td>| 3/3/20</td>\n      <td>M1</td>\n      <td>Developers</td>\n      <td>NaN</td>\n      <td>$660,000</td>\n      <td>Technical Program Manager</td>\n    </tr>\n    <tr>\n      <th>30290</th>\n      <td>PayPal</td>\n      <td>San Jose, C</td>\n      <td>| 3/3/20</td>\n      <td>T27</td>\n      <td>Program</td>\n      <td>NaN</td>\n      <td>$335,000</td>\n      <td>Technical Program Manager</td>\n    </tr>\n    <tr>\n      <th>30291</th>\n      <td>Amazon</td>\n      <td>Seattle, WA</td>\n      <td>5/14/19</td>\n      <td>L5</td>\n      <td>Security</td>\n      <td>NaN</td>\n      <td>$180,000</td>\n      <td>Technical Program Manager</td>\n    </tr>\n    <tr>\n      <th>30292</th>\n      <td>Amazon</td>\n      <td>Sunnyvale, CA</td>\n      <td>9/13/18</td>\n      <td>L6</td>\n      <td>Full Stack</td>\n      <td>NaN</td>\n      <td>$254,000</td>\n      <td>Technical Program Manager</td>\n    </tr>\n    <tr>\n      <th>30293</th>\n      <td>Google</td>\n      <td>Mountain View, CA</td>\n      <td>8/22/18</td>\n      <td>L5</td>\n      <td>Healthcare</td>\n      <td>NaN</td>\n      <td>$269,000</td>\n      <td>Technical Program Manager</td>\n    </tr>\n  </tbody>\n</table>\n<p>30294 rows × 8 columns</p>\n</div>"
     },
     "metadata": {},
     "execution_count": 2
    }
   ],
   "source": [
    "df = pd.read_csv(os.path.join(settings.PROCESSED_DIR, 'data.csv'), index_col=0).reset_index(drop = True)\n",
    "df\n"
   ]
  },
  {
   "cell_type": "code",
   "execution_count": 22,
   "metadata": {},
   "outputs": [
    {
     "output_type": "execute_result",
     "data": {
      "text/plain": [
       "756"
      ]
     },
     "metadata": {},
     "execution_count": 22
    }
   ],
   "source": [
    "df.groupby(['Company'])['Total_Comp'].count().sort_values().index.value_counts().sum()"
   ]
  },
  {
   "cell_type": "code",
   "execution_count": 27,
   "metadata": {},
   "outputs": [
    {
     "output_type": "execute_result",
     "data": {
      "text/plain": [
       "757"
      ]
     },
     "metadata": {},
     "execution_count": 27
    }
   ],
   "source": [
    "len(df['Company'].unique())"
   ]
  },
  {
   "cell_type": "code",
   "execution_count": 30,
   "metadata": {},
   "outputs": [],
   "source": [
    "labels = df['Company'].unique()"
   ]
  },
  {
   "cell_type": "code",
   "execution_count": null,
   "metadata": {},
   "outputs": [],
   "source": []
  }
 ]
}