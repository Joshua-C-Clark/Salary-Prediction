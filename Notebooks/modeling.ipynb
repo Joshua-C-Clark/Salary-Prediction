{
 "metadata": {
  "language_info": {
   "codemirror_mode": {
    "name": "ipython",
    "version": 3
   },
   "file_extension": ".py",
   "mimetype": "text/x-python",
   "name": "python",
   "nbconvert_exporter": "python",
   "pygments_lexer": "ipython3",
   "version": "3.8.5-final"
  },
  "orig_nbformat": 2,
  "kernelspec": {
   "name": "python3",
   "display_name": "Python 3.8.5 64-bit",
   "metadata": {
    "interpreter": {
     "hash": "8b9493c41f693f0d8fbd6911bb9bbebcda02f1e5e260b6a4e0e73c5cd85b07e2"
    }
   }
  }
 },
 "nbformat": 4,
 "nbformat_minor": 2,
 "cells": [
  {
   "cell_type": "code",
   "execution_count": 1,
   "metadata": {},
   "outputs": [],
   "source": [
    "import pandas as pd \n",
    "import numpy as np \n",
    "import matplotlib.pyplot as plt \n",
    "import seaborn as sns\n",
    "from scipy import stats\n",
    "\n",
    "%matplotlib inline"
   ]
  },
  {
   "cell_type": "code",
   "execution_count": 4,
   "metadata": {},
   "outputs": [],
   "source": [
    "df = pd.read_csv('Processed_Data/data.csv', index_col=0)"
   ]
  },
  {
   "cell_type": "code",
   "execution_count": 5,
   "metadata": {},
   "outputs": [
    {
     "output_type": "execute_result",
     "data": {
      "text/plain": [
       "      Company       Location Job_Title Subspecialty  Total_Comp        Role\n",
       "0       Other  San Francisco    Senior        Other    198000.0  Consultant\n",
       "1    Facebook     Menlo Park        L4      Product    177000.0  Consultant\n",
       "2       Other  San Francisco     Other        Other    120000.0  Consultant\n",
       "3  Salesforce        Atlanta     Other        Other    178000.0  Consultant\n",
       "4      Oracle  San Francisco     Other        Other     82000.0  Consultant"
      ],
      "text/html": "<div>\n<style scoped>\n    .dataframe tbody tr th:only-of-type {\n        vertical-align: middle;\n    }\n\n    .dataframe tbody tr th {\n        vertical-align: top;\n    }\n\n    .dataframe thead th {\n        text-align: right;\n    }\n</style>\n<table border=\"1\" class=\"dataframe\">\n  <thead>\n    <tr style=\"text-align: right;\">\n      <th></th>\n      <th>Company</th>\n      <th>Location</th>\n      <th>Job_Title</th>\n      <th>Subspecialty</th>\n      <th>Total_Comp</th>\n      <th>Role</th>\n    </tr>\n  </thead>\n  <tbody>\n    <tr>\n      <th>0</th>\n      <td>Other</td>\n      <td>San Francisco</td>\n      <td>Senior</td>\n      <td>Other</td>\n      <td>198000.0</td>\n      <td>Consultant</td>\n    </tr>\n    <tr>\n      <th>1</th>\n      <td>Facebook</td>\n      <td>Menlo Park</td>\n      <td>L4</td>\n      <td>Product</td>\n      <td>177000.0</td>\n      <td>Consultant</td>\n    </tr>\n    <tr>\n      <th>2</th>\n      <td>Other</td>\n      <td>San Francisco</td>\n      <td>Other</td>\n      <td>Other</td>\n      <td>120000.0</td>\n      <td>Consultant</td>\n    </tr>\n    <tr>\n      <th>3</th>\n      <td>Salesforce</td>\n      <td>Atlanta</td>\n      <td>Other</td>\n      <td>Other</td>\n      <td>178000.0</td>\n      <td>Consultant</td>\n    </tr>\n    <tr>\n      <th>4</th>\n      <td>Oracle</td>\n      <td>San Francisco</td>\n      <td>Other</td>\n      <td>Other</td>\n      <td>82000.0</td>\n      <td>Consultant</td>\n    </tr>\n  </tbody>\n</table>\n</div>"
     },
     "metadata": {},
     "execution_count": 5
    }
   ],
   "source": [
    "df.head()"
   ]
  },
  {
   "cell_type": "code",
   "execution_count": 8,
   "metadata": {},
   "outputs": [
    {
     "output_type": "execute_result",
     "data": {
      "text/plain": [
       "Company          33\n",
       "Location         27\n",
       "Job_Title        35\n",
       "Subspecialty     17\n",
       "Total_Comp      518\n",
       "Role              8\n",
       "dtype: int64"
      ]
     },
     "metadata": {},
     "execution_count": 8
    }
   ],
   "source": [
    "df.nunique()"
   ]
  },
  {
   "cell_type": "code",
   "execution_count": 9,
   "metadata": {},
   "outputs": [
    {
     "output_type": "execute_result",
     "data": {
      "text/plain": [
       "(28092, 6)"
      ]
     },
     "metadata": {},
     "execution_count": 9
    }
   ],
   "source": [
    "df.shape"
   ]
  },
  {
   "cell_type": "code",
   "execution_count": null,
   "metadata": {},
   "outputs": [],
   "source": []
  }
 ]
}