{
 "metadata": {
  "language_info": {
   "codemirror_mode": {
    "name": "ipython",
    "version": 3
   },
   "file_extension": ".py",
   "mimetype": "text/x-python",
   "name": "python",
   "nbconvert_exporter": "python",
   "pygments_lexer": "ipython3",
   "version": "3.8.5-final"
  },
  "orig_nbformat": 2,
  "kernelspec": {
   "name": "python3",
   "display_name": "Python 3.8.5 64-bit",
   "metadata": {
    "interpreter": {
     "hash": "8b9493c41f693f0d8fbd6911bb9bbebcda02f1e5e260b6a4e0e73c5cd85b07e2"
    }
   }
  }
 },
 "nbformat": 4,
 "nbformat_minor": 2,
 "cells": [
  {
   "cell_type": "code",
   "execution_count": 1,
   "metadata": {},
   "outputs": [],
   "source": [
    "import pandas as pd \n",
    "import numpy as np \n",
    "import matplotlib.pyplot as plt \n",
    "import seaborn as sns\n",
    "from scipy import stats\n",
    "\n",
    "%matplotlib inline"
   ]
  },
  {
   "cell_type": "code",
   "execution_count": 2,
   "metadata": {},
   "outputs": [],
   "source": [
    "df = pd.read_csv('../Processed_Data/data.csv', index_col=0)"
   ]
  },
  {
   "cell_type": "code",
   "execution_count": 3,
   "metadata": {},
   "outputs": [
    {
     "output_type": "execute_result",
     "data": {
      "text/plain": [
       "      Company       Location Job_Title Subspecialty  Total_Comp        Role\n",
       "0       Other  San Francisco    Senior        Other    198000.0  Consultant\n",
       "1    Facebook     Menlo Park        L4      Product    177000.0  Consultant\n",
       "2       Other  San Francisco     Other        Other    120000.0  Consultant\n",
       "3  Salesforce        Atlanta     Other        Other    178000.0  Consultant\n",
       "4      Oracle  San Francisco     Other        Other     82000.0  Consultant"
      ],
      "text/html": "<div>\n<style scoped>\n    .dataframe tbody tr th:only-of-type {\n        vertical-align: middle;\n    }\n\n    .dataframe tbody tr th {\n        vertical-align: top;\n    }\n\n    .dataframe thead th {\n        text-align: right;\n    }\n</style>\n<table border=\"1\" class=\"dataframe\">\n  <thead>\n    <tr style=\"text-align: right;\">\n      <th></th>\n      <th>Company</th>\n      <th>Location</th>\n      <th>Job_Title</th>\n      <th>Subspecialty</th>\n      <th>Total_Comp</th>\n      <th>Role</th>\n    </tr>\n  </thead>\n  <tbody>\n    <tr>\n      <th>0</th>\n      <td>Other</td>\n      <td>San Francisco</td>\n      <td>Senior</td>\n      <td>Other</td>\n      <td>198000.0</td>\n      <td>Consultant</td>\n    </tr>\n    <tr>\n      <th>1</th>\n      <td>Facebook</td>\n      <td>Menlo Park</td>\n      <td>L4</td>\n      <td>Product</td>\n      <td>177000.0</td>\n      <td>Consultant</td>\n    </tr>\n    <tr>\n      <th>2</th>\n      <td>Other</td>\n      <td>San Francisco</td>\n      <td>Other</td>\n      <td>Other</td>\n      <td>120000.0</td>\n      <td>Consultant</td>\n    </tr>\n    <tr>\n      <th>3</th>\n      <td>Salesforce</td>\n      <td>Atlanta</td>\n      <td>Other</td>\n      <td>Other</td>\n      <td>178000.0</td>\n      <td>Consultant</td>\n    </tr>\n    <tr>\n      <th>4</th>\n      <td>Oracle</td>\n      <td>San Francisco</td>\n      <td>Other</td>\n      <td>Other</td>\n      <td>82000.0</td>\n      <td>Consultant</td>\n    </tr>\n  </tbody>\n</table>\n</div>"
     },
     "metadata": {},
     "execution_count": 3
    }
   ],
   "source": [
    "df.head()"
   ]
  },
  {
   "cell_type": "code",
   "execution_count": 4,
   "metadata": {},
   "outputs": [
    {
     "output_type": "execute_result",
     "data": {
      "text/plain": [
       "Company          33\n",
       "Location         27\n",
       "Job_Title        35\n",
       "Subspecialty     17\n",
       "Total_Comp      518\n",
       "Role              8\n",
       "dtype: int64"
      ]
     },
     "metadata": {},
     "execution_count": 4
    }
   ],
   "source": [
    "df.nunique()"
   ]
  },
  {
   "cell_type": "code",
   "execution_count": 5,
   "metadata": {},
   "outputs": [
    {
     "output_type": "execute_result",
     "data": {
      "text/plain": [
       "(28092, 6)"
      ]
     },
     "metadata": {},
     "execution_count": 5
    }
   ],
   "source": [
    "df.shape"
   ]
  },
  {
   "cell_type": "code",
   "execution_count": 6,
   "metadata": {},
   "outputs": [],
   "source": [
    "test = df.copy()"
   ]
  },
  {
   "cell_type": "code",
   "execution_count": 7,
   "metadata": {},
   "outputs": [
    {
     "output_type": "execute_result",
     "data": {
      "text/plain": [
       "Index(['Company', 'Location', 'Job_Title', 'Subspecialty', 'Total_Comp',\n",
       "       'Role'],\n",
       "      dtype='object')"
      ]
     },
     "metadata": {},
     "execution_count": 7
    }
   ],
   "source": [
    "test.columns"
   ]
  },
  {
   "cell_type": "code",
   "execution_count": 8,
   "metadata": {},
   "outputs": [],
   "source": [
    "from sklearn.preprocessing import StandardScaler, OrdinalEncoder\n",
    "from sklearn.linear_model import LinearRegression"
   ]
  },
  {
   "cell_type": "code",
   "execution_count": 9,
   "metadata": {},
   "outputs": [
    {
     "output_type": "execute_result",
     "data": {
      "text/plain": [
       "   Company  Location  Job_Title  Subspecialty  Total_Comp  Role\n",
       "0     22.0      19.0       31.0          10.0    198000.0   0.0\n",
       "1     10.0      11.0       23.0          11.0    177000.0   0.0\n",
       "2     22.0      19.0       27.0          10.0    120000.0   0.0\n",
       "3     25.0       0.0       27.0          10.0    178000.0   0.0\n",
       "4     21.0      19.0       27.0          10.0     82000.0   0.0"
      ],
      "text/html": "<div>\n<style scoped>\n    .dataframe tbody tr th:only-of-type {\n        vertical-align: middle;\n    }\n\n    .dataframe tbody tr th {\n        vertical-align: top;\n    }\n\n    .dataframe thead th {\n        text-align: right;\n    }\n</style>\n<table border=\"1\" class=\"dataframe\">\n  <thead>\n    <tr style=\"text-align: right;\">\n      <th></th>\n      <th>Company</th>\n      <th>Location</th>\n      <th>Job_Title</th>\n      <th>Subspecialty</th>\n      <th>Total_Comp</th>\n      <th>Role</th>\n    </tr>\n  </thead>\n  <tbody>\n    <tr>\n      <th>0</th>\n      <td>22.0</td>\n      <td>19.0</td>\n      <td>31.0</td>\n      <td>10.0</td>\n      <td>198000.0</td>\n      <td>0.0</td>\n    </tr>\n    <tr>\n      <th>1</th>\n      <td>10.0</td>\n      <td>11.0</td>\n      <td>23.0</td>\n      <td>11.0</td>\n      <td>177000.0</td>\n      <td>0.0</td>\n    </tr>\n    <tr>\n      <th>2</th>\n      <td>22.0</td>\n      <td>19.0</td>\n      <td>27.0</td>\n      <td>10.0</td>\n      <td>120000.0</td>\n      <td>0.0</td>\n    </tr>\n    <tr>\n      <th>3</th>\n      <td>25.0</td>\n      <td>0.0</td>\n      <td>27.0</td>\n      <td>10.0</td>\n      <td>178000.0</td>\n      <td>0.0</td>\n    </tr>\n    <tr>\n      <th>4</th>\n      <td>21.0</td>\n      <td>19.0</td>\n      <td>27.0</td>\n      <td>10.0</td>\n      <td>82000.0</td>\n      <td>0.0</td>\n    </tr>\n  </tbody>\n</table>\n</div>"
     },
     "metadata": {},
     "execution_count": 9
    }
   ],
   "source": [
    "oe = OrdinalEncoder()\n",
    "\n",
    "test[['Company','Location','Job_Title','Subspecialty','Role']] = oe.fit_transform(test[['Company','Location','Job_Title','Subspecialty','Role']])\n",
    "\n",
    "test.head()\n"
   ]
  },
  {
   "cell_type": "code",
   "execution_count": 10,
   "metadata": {},
   "outputs": [
    {
     "output_type": "execute_result",
     "data": {
      "text/plain": [
       "    Company  Location  Job_Title  Subspecialty  Total_Comp      Role\n",
       "0  0.774181  0.583569   0.987768      0.845499    198000.0 -4.281917\n",
       "1 -0.638099 -0.793337   0.006345      1.082929    177000.0 -4.281917\n",
       "2  0.774181  0.583569   0.497056      0.845499    120000.0 -4.281917\n",
       "3  1.127251 -2.686582   0.497056      0.845499    178000.0 -4.281917\n",
       "4  0.656491  0.583569   0.497056      0.845499     82000.0 -4.281917"
      ],
      "text/html": "<div>\n<style scoped>\n    .dataframe tbody tr th:only-of-type {\n        vertical-align: middle;\n    }\n\n    .dataframe tbody tr th {\n        vertical-align: top;\n    }\n\n    .dataframe thead th {\n        text-align: right;\n    }\n</style>\n<table border=\"1\" class=\"dataframe\">\n  <thead>\n    <tr style=\"text-align: right;\">\n      <th></th>\n      <th>Company</th>\n      <th>Location</th>\n      <th>Job_Title</th>\n      <th>Subspecialty</th>\n      <th>Total_Comp</th>\n      <th>Role</th>\n    </tr>\n  </thead>\n  <tbody>\n    <tr>\n      <th>0</th>\n      <td>0.774181</td>\n      <td>0.583569</td>\n      <td>0.987768</td>\n      <td>0.845499</td>\n      <td>198000.0</td>\n      <td>-4.281917</td>\n    </tr>\n    <tr>\n      <th>1</th>\n      <td>-0.638099</td>\n      <td>-0.793337</td>\n      <td>0.006345</td>\n      <td>1.082929</td>\n      <td>177000.0</td>\n      <td>-4.281917</td>\n    </tr>\n    <tr>\n      <th>2</th>\n      <td>0.774181</td>\n      <td>0.583569</td>\n      <td>0.497056</td>\n      <td>0.845499</td>\n      <td>120000.0</td>\n      <td>-4.281917</td>\n    </tr>\n    <tr>\n      <th>3</th>\n      <td>1.127251</td>\n      <td>-2.686582</td>\n      <td>0.497056</td>\n      <td>0.845499</td>\n      <td>178000.0</td>\n      <td>-4.281917</td>\n    </tr>\n    <tr>\n      <th>4</th>\n      <td>0.656491</td>\n      <td>0.583569</td>\n      <td>0.497056</td>\n      <td>0.845499</td>\n      <td>82000.0</td>\n      <td>-4.281917</td>\n    </tr>\n  </tbody>\n</table>\n</div>"
     },
     "metadata": {},
     "execution_count": 10
    }
   ],
   "source": [
    "ss = StandardScaler()\n",
    "\n",
    "test[['Company','Location','Job_Title','Subspecialty','Role']] = ss.fit_transform(test[['Company','Location','Job_Title','Subspecialty','Role']])\n",
    "test.head()"
   ]
  },
  {
   "cell_type": "code",
   "execution_count": 11,
   "metadata": {},
   "outputs": [],
   "source": [
    "X = test[['Company','Location','Job_Title','Subspecialty','Role']].values\n",
    "Y = test['Total_Comp']"
   ]
  },
  {
   "cell_type": "code",
   "execution_count": 12,
   "metadata": {},
   "outputs": [],
   "source": [
    "from sklearn.model_selection import train_test_split"
   ]
  },
  {
   "cell_type": "code",
   "execution_count": 13,
   "metadata": {},
   "outputs": [],
   "source": [
    "X_train, X_test, y_train, y_test = train_test_split(X, Y, train_size=0.8, random_state=0)"
   ]
  },
  {
   "cell_type": "code",
   "execution_count": 14,
   "metadata": {},
   "outputs": [
    {
     "output_type": "execute_result",
     "data": {
      "text/plain": [
       "((22473, 5), (22473,))"
      ]
     },
     "metadata": {},
     "execution_count": 14
    }
   ],
   "source": [
    "X_train.shape, y_train.shape"
   ]
  },
  {
   "cell_type": "code",
   "execution_count": 15,
   "metadata": {},
   "outputs": [
    {
     "output_type": "execute_result",
     "data": {
      "text/plain": [
       "LinearRegression()"
      ]
     },
     "metadata": {},
     "execution_count": 15
    }
   ],
   "source": [
    "lr = LinearRegression()\n",
    "lr.fit(X_train,y_train)"
   ]
  },
  {
   "cell_type": "code",
   "execution_count": 16,
   "metadata": {},
   "outputs": [],
   "source": [
    "from sklearn.metrics import mean_squared_error, r2_score"
   ]
  },
  {
   "cell_type": "code",
   "execution_count": 17,
   "metadata": {},
   "outputs": [],
   "source": [
    "def evaluate_model(model, X_train, X_test, y_train, y_test):\n",
    "    pred = model.predict(X_train)\n",
    "    # pred = np.exp(pred)\n",
    "    print('Train R2: {}'.format(r2_score(y_train, pred)))\n",
    "    print('Train MSE: {}'.format(mean_squared_error(y_train, pred)))\n",
    "\n",
    "    pred = model.predict(X_test)\n",
    "    # pred = np.exp(pred)\n",
    "    print('Test R2: {}'.format(r2_score(y_test, pred)))\n",
    "    print('Test MSE: {}'.format(mean_squared_error(y_test, pred)))"
   ]
  },
  {
   "cell_type": "code",
   "execution_count": 18,
   "metadata": {},
   "outputs": [
    {
     "output_type": "stream",
     "name": "stdout",
     "text": [
      "Train R2: 0.04592132475660271\nTrain MSE: 9360844304.251568\nTest R2: 0.044606234007910084\nTest MSE: 9559179954.825861\n"
     ]
    }
   ],
   "source": [
    "evaluate_model(lr, X_train, X_test, y_train, y_test)"
   ]
  },
  {
   "cell_type": "code",
   "execution_count": 25,
   "metadata": {},
   "outputs": [],
   "source": [
    "from xgboost import XGBRegressor"
   ]
  },
  {
   "cell_type": "code",
   "execution_count": 26,
   "metadata": {},
   "outputs": [],
   "source": [
    "from sklearn.ensemble import GradientBoostingRegressor"
   ]
  },
  {
   "cell_type": "code",
   "execution_count": 24,
   "metadata": {},
   "outputs": [
    {
     "output_type": "stream",
     "name": "stdout",
     "text": [
      "Train R2: 0.43342982821909326\nTrain MSE: 5558844677.165776\nTest R2: 0.4315810387038703\nTest MSE: 5687308557.139871\n"
     ]
    }
   ],
   "source": [
    "boost = GradientBoostingRegressor()\n",
    "boost.fit(X_train, y_train)\n",
    "\n",
    "evaluate_model(boost, X_train, X_test, y_train, y_test)"
   ]
  },
  {
   "cell_type": "code",
   "execution_count": 27,
   "metadata": {},
   "outputs": [
    {
     "output_type": "stream",
     "name": "stdout",
     "text": [
      "Train R2: 0.6333766557690713\nTrain MSE: 3597087046.070105\nTest R2: 0.5422961791932059\nTest MSE: 4579549652.556282\n"
     ]
    }
   ],
   "source": [
    "xgb = XGBRegressor()\n",
    "\n",
    "xgb.fit(X_train, y_train)\n",
    "evaluate_model(xgb, X_train, X_test, y_train, y_test)"
   ]
  },
  {
   "cell_type": "code",
   "execution_count": null,
   "metadata": {},
   "outputs": [],
   "source": []
  }
 ]
}