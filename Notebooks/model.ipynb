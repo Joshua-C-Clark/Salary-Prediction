{
 "metadata": {
  "language_info": {
   "codemirror_mode": {
    "name": "ipython",
    "version": 3
   },
   "file_extension": ".py",
   "mimetype": "text/x-python",
   "name": "python",
   "nbconvert_exporter": "python",
   "pygments_lexer": "ipython3",
   "version": "3.8.5"
  },
  "orig_nbformat": 2,
  "kernelspec": {
   "name": "python385jvsc74a57bd08b9493c41f693f0d8fbd6911bb9bbebcda02f1e5e260b6a4e0e73c5cd85b07e2",
   "display_name": "Python 3.8.5 64-bit"
  }
 },
 "nbformat": 4,
 "nbformat_minor": 2,
 "cells": [
  {
   "cell_type": "code",
   "execution_count": 1,
   "metadata": {},
   "outputs": [],
   "source": [
    "import pandas as pd \n",
    "import numpy as np \n",
    "import matplotlib.pyplot as plt \n",
    "import seaborn as sns\n",
    "from scipy import stats\n",
    "\n",
    "from sklearn.linear_model import LinearRegression, LogisticRegression\n",
    "from xgboost import XGBRegressor\n",
    "from sklearn.model_selection import train_test_split\n",
    "from sklearn.metrics import r2_score, mean_absolute_error\n",
    "\n",
    "%matplotlib inline"
   ]
  },
  {
   "cell_type": "code",
   "execution_count": 2,
   "metadata": {},
   "outputs": [
    {
     "output_type": "execute_result",
     "data": {
      "text/plain": [
       "      Company       Location         Job_Title Subspecialty  Total_Comp  \\\n",
       "0       Other  San Francisco  Senior Associate        Other    198000.0   \n",
       "1    Facebook     Menlo Park                L4      Product    177000.0   \n",
       "2   Accenture  San Francisco        Consultant        Other    120000.0   \n",
       "3  Salesforce        Atlanta                 8        Other    178000.0   \n",
       "4      Oracle  San Francisco              IC-4     Consumer     82000.0   \n",
       "\n",
       "         Role           Salary Bins  \n",
       "0  Consultant  (195000.0, 215000.0]  \n",
       "1  Consultant  (175000.0, 195000.0]  \n",
       "2  Consultant  (104000.0, 136000.0]  \n",
       "3  Consultant  (175000.0, 195000.0]  \n",
       "4  Consultant  (9999.999, 104000.0]  "
      ],
      "text/html": "<div>\n<style scoped>\n    .dataframe tbody tr th:only-of-type {\n        vertical-align: middle;\n    }\n\n    .dataframe tbody tr th {\n        vertical-align: top;\n    }\n\n    .dataframe thead th {\n        text-align: right;\n    }\n</style>\n<table border=\"1\" class=\"dataframe\">\n  <thead>\n    <tr style=\"text-align: right;\">\n      <th></th>\n      <th>Company</th>\n      <th>Location</th>\n      <th>Job_Title</th>\n      <th>Subspecialty</th>\n      <th>Total_Comp</th>\n      <th>Role</th>\n      <th>Salary Bins</th>\n    </tr>\n  </thead>\n  <tbody>\n    <tr>\n      <th>0</th>\n      <td>Other</td>\n      <td>San Francisco</td>\n      <td>Senior Associate</td>\n      <td>Other</td>\n      <td>198000.0</td>\n      <td>Consultant</td>\n      <td>(195000.0, 215000.0]</td>\n    </tr>\n    <tr>\n      <th>1</th>\n      <td>Facebook</td>\n      <td>Menlo Park</td>\n      <td>L4</td>\n      <td>Product</td>\n      <td>177000.0</td>\n      <td>Consultant</td>\n      <td>(175000.0, 195000.0]</td>\n    </tr>\n    <tr>\n      <th>2</th>\n      <td>Accenture</td>\n      <td>San Francisco</td>\n      <td>Consultant</td>\n      <td>Other</td>\n      <td>120000.0</td>\n      <td>Consultant</td>\n      <td>(104000.0, 136000.0]</td>\n    </tr>\n    <tr>\n      <th>3</th>\n      <td>Salesforce</td>\n      <td>Atlanta</td>\n      <td>8</td>\n      <td>Other</td>\n      <td>178000.0</td>\n      <td>Consultant</td>\n      <td>(175000.0, 195000.0]</td>\n    </tr>\n    <tr>\n      <th>4</th>\n      <td>Oracle</td>\n      <td>San Francisco</td>\n      <td>IC-4</td>\n      <td>Consumer</td>\n      <td>82000.0</td>\n      <td>Consultant</td>\n      <td>(9999.999, 104000.0]</td>\n    </tr>\n  </tbody>\n</table>\n</div>"
     },
     "metadata": {},
     "execution_count": 2
    }
   ],
   "source": [
    "df = pd.read_csv('../Processed_Data/prepared.csv', index_col=0)\n",
    "df.head()"
   ]
  },
  {
   "cell_type": "code",
   "execution_count": 3,
   "metadata": {},
   "outputs": [],
   "source": [
    "features = ['Company', 'Location', 'Job_Title', 'Subspecialty', 'Role']\n",
    "targets = ['Salary Bins', 'Total_Comp']\n",
    "X = pd.get_dummies(df[features], prefix='', prefix_sep='', drop_first=True).values\n",
    "y = df['Total_Comp']"
   ]
  },
  {
   "cell_type": "code",
   "execution_count": 4,
   "metadata": {},
   "outputs": [],
   "source": [
    "X_train, X_test, y_train, y_test = train_test_split(X, y, train_size=0.8, random_state=0)"
   ]
  },
  {
   "cell_type": "code",
   "execution_count": 5,
   "metadata": {},
   "outputs": [],
   "source": [
    "def evaluate_model(model, X_train, X_test, y_train, y_test):\n",
    "    model.fit(X_train, y_train)\n",
    "    pred = model.predict(X_train)\n",
    "    # pred = np.exp(pred)\n",
    "    print('Train R2: {}'.format(r2_score(y_train, pred)))\n",
    "    print('Train MAE: {}'.format(mean_absolute_error(y_train, pred)))\n",
    "\n",
    "    pred = model.predict(X_test)\n",
    "    # pred = np.exp(pred)\n",
    "    print('Test R2: {}'.format(r2_score(y_test, pred)))\n",
    "    print('Test MAE: {}'.format(mean_absolute_error(y_test, pred)))"
   ]
  },
  {
   "cell_type": "code",
   "execution_count": 6,
   "metadata": {},
   "outputs": [],
   "source": [
    "lm = LinearRegression()"
   ]
  },
  {
   "cell_type": "code",
   "execution_count": 7,
   "metadata": {},
   "outputs": [
    {
     "output_type": "stream",
     "name": "stdout",
     "text": [
      "Train R2: 0.6275235861834796\nTrain MAE: 41026.46574385154\nTest R2: 0.6019997605914541\nTest MAE: 42084.14447433854\n"
     ]
    }
   ],
   "source": [
    "evaluate_model(lm, X_train, X_test, y_train, y_test)"
   ]
  },
  {
   "cell_type": "code",
   "execution_count": 8,
   "metadata": {},
   "outputs": [],
   "source": [
    "xgb = XGBRegressor()"
   ]
  },
  {
   "cell_type": "code",
   "execution_count": 9,
   "metadata": {},
   "outputs": [
    {
     "output_type": "stream",
     "name": "stdout",
     "text": [
      "Train R2: 0.7066360896586934\nTrain MAE: 35970.16540936686\nTest R2: 0.6384016456426381\nTest MAE: 39725.81699001583\n"
     ]
    }
   ],
   "source": [
    "evaluate_model(xgb, X_train, X_test, y_train, y_test)"
   ]
  }
 ]
}